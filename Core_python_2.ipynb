{
 "cells": [
  {
   "cell_type": "code",
   "execution_count": 2,
   "metadata": {},
   "outputs": [
    {
     "name": "stdout",
     "output_type": "stream",
     "text": [
      "heelo world\n"
     ]
    }
   ],
   "source": [
    "print(\"heelo world\")"
   ]
  },
  {
   "cell_type": "code",
   "execution_count": 5,
   "metadata": {},
   "outputs": [
    {
     "name": "stdout",
     "output_type": "stream",
     "text": [
      "Hello!\n",
      "Welcome to Python\n"
     ]
    }
   ],
   "source": [
    "print(\"Hello!\\nWelcome to Python\")"
   ]
  },
  {
   "cell_type": "code",
   "execution_count": 8,
   "metadata": {},
   "outputs": [
    {
     "name": "stdout",
     "output_type": "stream",
     "text": [
      "Student Information\n",
      "Name is ABCXYZ \n",
      "Marks are: 90.45 \n",
      "Address is navi mumbai\n"
     ]
    }
   ],
   "source": [
    "#Program of student information\n",
    "'''\n",
    "can be used for multiline comment\n",
    "'''\n",
    "Fname=\"ABC\"\n",
    "Lname=\"XYZ\"\n",
    "Marks=90.45\n",
    "Add=\"navi mumbai\"\n",
    "print(\"Student Information\\nName is\",Fname+Lname,\"\\nMarks are:\",Marks,\"\\nAddress is\",Add)"
   ]
  },
  {
   "cell_type": "code",
   "execution_count": null,
   "metadata": {},
   "outputs": [],
   "source": [
    "#single line comment\n",
    "'''\n",
    "multiline comment\n",
    "\n",
    "'''"
   ]
  },
  {
   "cell_type": "code",
   "execution_count": null,
   "metadata": {},
   "outputs": [],
   "source": [
    "#program for employee information\n",
    "Fname=input(\"Enter your first name\")\n",
    "Lname=input(\"Enter your last name\")\n",
    "Des=input(\"Enter your designation\")\n",
    "CTC=int(input(\"Enter your CTC\"))\n",
    "print(\"Employee information\\nYour name is \",Fname,Lname,\"\\nYour designation is \",Des,\"\\nYour CTC is \",CTC)\n"
   ]
  },
  {
   "cell_type": "code",
   "execution_count": null,
   "metadata": {},
   "outputs": [],
   "source": []
  },
  {
   "cell_type": "code",
   "execution_count": 11,
   "metadata": {},
   "outputs": [
    {
     "name": "stdout",
     "output_type": "stream",
     "text": [
      "Enter your first nameABC\n",
      "Enter your last nameXYZ\n",
      "Enter your designationWeb developer\n",
      "Enter your CTC5000000\n",
      "Employee information\n",
      "Your name is  ABC XYZ \n",
      "Your designation is  Web developer \n",
      "Your CTC is  5000000\n"
     ]
    }
   ],
   "source": [
    "#program for employee information\n",
    "Fname=input(\"Enter your first name\")\n",
    "Lname=input(\"Enter your last name\")\n",
    "Des=input(\"Enter your designation\")\n",
    "CTC=int(input(\"Enter your CTC\"))\n",
    "print(\"Employee information\\nYour name is \",Fname,Lname,\"\\nYour designation is \",Des,\"\\nYour CTC is \",CTC)\n"
   ]
  },
  {
   "cell_type": "code",
   "execution_count": 16,
   "metadata": {},
   "outputs": [
    {
     "name": "stdout",
     "output_type": "stream",
     "text": [
      "Addition of two numbers is : 300\n"
     ]
    }
   ],
   "source": [
    "#Write a program in python to add two numbers\n",
    "number1=100\n",
    "number2=200\n",
    "#add=number1+number2 #addition operator arithmetic operator\n",
    "#print(\"Addirtion of two numbers is :- \",add) #directly by variable\n",
    "print(\"Addition of two numbers is :\",number1+number2)#direct additon with numbers "
   ]
  },
  {
   "cell_type": "code",
   "execution_count": 17,
   "metadata": {},
   "outputs": [
    {
     "name": "stdout",
     "output_type": "stream",
     "text": [
      "Enter length of rectanle12.5\n",
      "Enter breadth of rectangle45\n",
      "Area of rectangle is 562.5\n"
     ]
    }
   ],
   "source": [
    "#Write a program to calculate area of rectangle length breadth \n",
    "l=float(input(\"Enter length of rectanle\"))\n",
    "b=float(input(\"Enter breadth of rectangle\"))\n",
    "print(\"Area of rectangle is\",l*b)\n"
   ]
  },
  {
   "cell_type": "code",
   "execution_count": 21,
   "metadata": {},
   "outputs": [
    {
     "name": "stdout",
     "output_type": "stream",
     "text": [
      "area of circle is 452.15999999999997\n"
     ]
    }
   ],
   "source": [
    "#write a program to find area of circle\n",
    "pi=3.14\n",
    "r=12\n",
    "print(\"area of circle is\",pi*r*r)"
   ]
  },
  {
   "cell_type": "code",
   "execution_count": 23,
   "metadata": {},
   "outputs": [
    {
     "name": "stdout",
     "output_type": "stream",
     "text": [
      "Area of circle is 314.1592653589793\n"
     ]
    }
   ],
   "source": [
    "import math\n",
    "ra=10\n",
    "print(\"Area of circle is\",math.pi*math.pow(ra,2))"
   ]
  }
 ],
 "metadata": {
  "kernelspec": {
   "display_name": "Python 3",
   "language": "python",
   "name": "python3"
  },
  "language_info": {
   "codemirror_mode": {
    "name": "ipython",
    "version": 3
   },
   "file_extension": ".py",
   "mimetype": "text/x-python",
   "name": "python",
   "nbconvert_exporter": "python",
   "pygments_lexer": "ipython3",
   "version": "3.8.5"
  }
 },
 "nbformat": 4,
 "nbformat_minor": 4
}
