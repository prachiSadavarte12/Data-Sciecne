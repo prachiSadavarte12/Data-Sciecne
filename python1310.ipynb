{
 "cells": [
  {
   "cell_type": "code",
   "execution_count": 1,
   "metadata": {},
   "outputs": [],
   "source": [
    "#Opeators \n",
    "#1.Arithmetic operator + - * /\n",
    "#operator operand \n",
    "#a=10\n",
    "#-a\n"
   ]
  },
  {
   "cell_type": "code",
   "execution_count": 2,
   "metadata": {},
   "outputs": [
    {
     "data": {
      "text/plain": [
       "-10"
      ]
     },
     "execution_count": 2,
     "metadata": {},
     "output_type": "execute_result"
    }
   ],
   "source": [
    "a=10\n",
    "-a"
   ]
  },
  {
   "cell_type": "code",
   "execution_count": 5,
   "metadata": {},
   "outputs": [
    {
     "name": "stdout",
     "output_type": "stream",
     "text": [
      "negative number of a is  -5\n"
     ]
    }
   ],
   "source": [
    "a=5\n",
    "print(\"negative number of a is \",-a)"
   ]
  },
  {
   "cell_type": "code",
   "execution_count": 7,
   "metadata": {},
   "outputs": [
    {
     "name": "stdout",
     "output_type": "stream",
     "text": [
      "+ve number of b is  9\n"
     ]
    }
   ],
   "source": [
    "b=-9\n",
    "print(\"+ve number of b is \",-(b))"
   ]
  },
  {
   "cell_type": "code",
   "execution_count": 9,
   "metadata": {},
   "outputs": [
    {
     "name": "stdout",
     "output_type": "stream",
     "text": [
      "enter number20\n",
      "enter number10\n",
      "Addition of two numbers is:  30 \n",
      "Substraction of two numbers is : 10 \n",
      "Multiplication of two numbers is 200 \n",
      "Division:- 2.0\n"
     ]
    }
   ],
   "source": [
    "#all operations inone\n",
    "num1=int(input(\"enter number\"))\n",
    "num2=int(input(\"enter number\"))\n",
    "add=num1+num2\n",
    "sub=num1-num2\n",
    "mul=num1*num2\n",
    "div=num1/num2\n",
    "print(\"Addition of two numbers is: \",num1+num2)\n",
    "print(\"\\nSubtraction of two numbers is :\",sub)\n",
    "print(\"\\nMultiplication of two numbers is\",mul)\n",
    "print(\"\\nDivision:-\",div)"
   ]
  },
  {
   "cell_type": "code",
   "execution_count": 16,
   "metadata": {},
   "outputs": [
    {
     "name": "stdout",
     "output_type": "stream",
     "text": [
      "Enter yOur name pleaseABC\n",
      "Enter your roll no12\n",
      "Enter your marks subject 190\n",
      "Enter your Marks for subject 270\n",
      "Enter your Marks for subject 389\n",
      "ABC  Your roll no is 12\n",
      "\n",
      "Average of your marks is 83.0\n"
     ]
    }
   ],
   "source": [
    "#Write a program in python to find average of 3 different subject marks of student with Name and roll no\n",
    "sName=input(\"Enter yOur name please\")\n",
    "Srollno=input(\"Enter your roll no\")\n",
    "sub1=int(input(\"Enter your marks subject 1\"))\n",
    "sub2=int(input(\"Enter your Marks for subject 2\"))\n",
    "sub3=int(input(\"Enter your Marks for subject 3\"))\n",
    "avg=(sub1+sub2+sub3)/3\n",
    "print(sName,\" Your roll no is\",Srollno)\n",
    "print(\"\\nAverage of your marks is \",avg)"
   ]
  },
  {
   "cell_type": "code",
   "execution_count": 26,
   "metadata": {},
   "outputs": [
    {
     "name": "stdout",
     "output_type": "stream",
     "text": [
      "you can not vote\n",
      "False\n",
      "True\n",
      "False\n",
      "False\n",
      "True\n"
     ]
    }
   ],
   "source": [
    "#write a program to find whther number is even or odd\n",
    "#steps1 input number from user\n",
    "#step2 A%2 == 0\n",
    "age=2\n",
    "if age>18:\n",
    "    print(\"you can vote\")\n",
    "else:\n",
    "    print(\"you can not vote\")\n",
    "\n",
    "print(age>18)\n",
    "print(age<18)\n",
    "print(age==18)\n",
    "print(age>=18)\n",
    "print(age<=18)\n"
   ]
  },
  {
   "cell_type": "code",
   "execution_count": 31,
   "metadata": {},
   "outputs": [
    {
     "name": "stdout",
     "output_type": "stream",
     "text": [
      "number is even\n"
     ]
    }
   ],
   "source": [
    "a=28\n",
    "if(a%2==0):\n",
    "    print(\"number is even\")\n",
    "else:\n",
    "    print(\"number is odd\")"
   ]
  },
  {
   "cell_type": "code",
   "execution_count": 38,
   "metadata": {},
   "outputs": [
    {
     "name": "stdout",
     "output_type": "stream",
     "text": [
      "False\n",
      "False\n",
      "True\n",
      "False\n"
     ]
    }
   ],
   "source": [
    "a=5\n",
    "print((a>5)and(a<5))#false && false\n",
    "print((a==5)and(a<5))#true and false \n",
    "print((a==5)and(a<=5))#true and true\n",
    "print((a>5)and(a==5))#false and true"
   ]
  },
  {
   "cell_type": "code",
   "execution_count": 42,
   "metadata": {},
   "outputs": [
    {
     "name": "stdout",
     "output_type": "stream",
     "text": [
      "True\n",
      "False\n",
      "True\n",
      "True\n"
     ]
    }
   ],
   "source": [
    "b=10\n",
    "print((b>5)or(b<5))#true or false\n",
    "print((b==5)or(b<5))#false or false  \n",
    "print((b==10)or(b>=5))#true and true\n",
    "print((b>5)or(b==10))#false and true"
   ]
  },
  {
   "cell_type": "code",
   "execution_count": 45,
   "metadata": {},
   "outputs": [
    {
     "name": "stdout",
     "output_type": "stream",
     "text": [
      "True\n",
      "False\n"
     ]
    }
   ],
   "source": [
    "print(not(b==5))\n",
    "print(not(b>5))"
   ]
  },
  {
   "cell_type": "code",
   "execution_count": null,
   "metadata": {},
   "outputs": [],
   "source": []
  }
 ],
 "metadata": {
  "kernelspec": {
   "display_name": "Python 3",
   "language": "python",
   "name": "python3"
  },
  "language_info": {
   "codemirror_mode": {
    "name": "ipython",
    "version": 3
   },
   "file_extension": ".py",
   "mimetype": "text/x-python",
   "name": "python",
   "nbconvert_exporter": "python",
   "pygments_lexer": "ipython3",
   "version": "3.8.5"
  }
 },
 "nbformat": 4,
 "nbformat_minor": 4
}
